{
  "nbformat": 4,
  "nbformat_minor": 0,
  "metadata": {
    "colab": {
      "provenance": [],
      "authorship_tag": "ABX9TyOCYXA+4cGWQ28643vf55aA",
      "include_colab_link": true
    },
    "kernelspec": {
      "name": "python3",
      "display_name": "Python 3"
    },
    "language_info": {
      "name": "python"
    }
  },
  "cells": [
    {
      "cell_type": "markdown",
      "metadata": {
        "id": "view-in-github",
        "colab_type": "text"
      },
      "source": [
        "<a href=\"https://colab.research.google.com/github/frm1789/LanguageDetection/blob/main/Language_Detection.ipynb\" target=\"_parent\"><img src=\"https://colab.research.google.com/assets/colab-badge.svg\" alt=\"Open In Colab\"/></a>"
      ]
    },
    {
      "cell_type": "code",
      "source": [
        "!pip install huggingface_hub --quiet\n",
        "!pip install langdetect --quiet\n",
        "!pip install langid --quiet\n",
        "!pip install pycountry --quiet\n",
        "!pip install transformers --quiet"
      ],
      "metadata": {
        "id": "I6Qs7k_dJ_To"
      },
      "execution_count": 1,
      "outputs": []
    },
    {
      "cell_type": "code",
      "source": [
        "!git config --global credential.helper store"
      ],
      "metadata": {
        "id": "3wYnYkjphvNe"
      },
      "execution_count": 2,
      "outputs": []
    },
    {
      "cell_type": "code",
      "source": [
        "!huggingface-cli login"
      ],
      "metadata": {
        "colab": {
          "base_uri": "https://localhost:8080/"
        },
        "id": "9GYJDRATKGg3",
        "outputId": "8e05fea9-0c15-4e71-98f7-179dc816c676"
      },
      "execution_count": 3,
      "outputs": [
        {
          "output_type": "stream",
          "name": "stdout",
          "text": [
            "\n",
            "    _|    _|  _|    _|    _|_|_|    _|_|_|  _|_|_|  _|      _|    _|_|_|      _|_|_|_|    _|_|      _|_|_|  _|_|_|_|\n",
            "    _|    _|  _|    _|  _|        _|          _|    _|_|    _|  _|            _|        _|    _|  _|        _|\n",
            "    _|_|_|_|  _|    _|  _|  _|_|  _|  _|_|    _|    _|  _|  _|  _|  _|_|      _|_|_|    _|_|_|_|  _|        _|_|_|\n",
            "    _|    _|  _|    _|  _|    _|  _|    _|    _|    _|    _|_|  _|    _|      _|        _|    _|  _|        _|\n",
            "    _|    _|    _|_|      _|_|_|    _|_|_|  _|_|_|  _|      _|    _|_|_|      _|        _|    _|    _|_|_|  _|_|_|_|\n",
            "\n",
            "    To login, `huggingface_hub` requires a token generated from https://huggingface.co/settings/tokens .\n",
            "Enter your token (input will not be visible): \n",
            "Add token as git credential? (Y/n) Y\n",
            "Token is valid (permission: read).\n",
            "Your token has been saved in your configured git credential helpers (store).\n",
            "Your token has been saved to /root/.cache/huggingface/token\n",
            "Login successful\n"
          ]
        }
      ]
    },
    {
      "cell_type": "code",
      "execution_count": 14,
      "metadata": {
        "id": "-rUsS8_LgxN9"
      },
      "outputs": [],
      "source": [
        "from langdetect import detect as langdetect_detect\n",
        "from langdetect import LangDetectException\n",
        "import langid\n",
        "from transformers import pipeline\n",
        "import pycountry"
      ]
    },
    {
      "cell_type": "code",
      "source": [
        "def get_language_name(language_code):\n",
        "    try:\n",
        "        language = pycountry.languages.get(alpha_2=language_code)\n",
        "        return language.name if language else \"Unknown\"\n",
        "    except KeyError:\n",
        "        return \"Unknown\""
      ],
      "metadata": {
        "id": "FZCl2SnDg3EJ"
      },
      "execution_count": 15,
      "outputs": []
    },
    {
      "cell_type": "code",
      "source": [
        "language_detector = pipeline(\"text-classification\", model=\"papluca/xlm-roberta-base-language-detection\")\n"
      ],
      "metadata": {
        "id": "lAyqjS_WhkMI"
      },
      "execution_count": 16,
      "outputs": []
    },
    {
      "cell_type": "code",
      "source": [
        "sentence = \"It was the best of times, it was the worst of times, it was the age of wisdom, it was the age of foolishness, it was the epoch of belief, it was the epoch of incredulity, it was the season of light, it was the season of darkness, it was the spring of hope, it was the winter of despair.\""
      ],
      "metadata": {
        "id": "PsVV_-_zhtH7"
      },
      "execution_count": 17,
      "outputs": []
    },
    {
      "cell_type": "code",
      "source": [
        "# With langdetect\n",
        "try:\n",
        "    langdetect_code = langdetect_detect(sentence)\n",
        "    langdetect_result = get_language_name(langdetect_code)\n",
        "except LangDetectException:\n",
        "    langdetect_result = \"Detection failed\"\n"
      ],
      "metadata": {
        "id": "JgUDqJYPh1e3"
      },
      "execution_count": 18,
      "outputs": []
    },
    {
      "cell_type": "code",
      "source": [
        "# with langid\n",
        "try:\n",
        "    langid_code, langid_confidence = langid.classify(sentence)\n",
        "    langid_result = {\n",
        "        'language': get_language_name(langid_code),\n",
        "        'confidence': langid_confidence\n",
        "    }\n",
        "except Exception as e:\n",
        "    langid_result = \"Detection failed\"\n"
      ],
      "metadata": {
        "id": "f3D6fM1Fi4Kr"
      },
      "execution_count": 19,
      "outputs": []
    },
    {
      "cell_type": "code",
      "source": [
        "# With Hugging Face's Transformers\n",
        "try:\n",
        "    hf_prediction = language_detector(sentence)[0]\n",
        "    transformers_result = {\n",
        "        'language': hf_prediction['label'],\n",
        "        'confidence': hf_prediction['score']\n",
        "    }\n",
        "except Exception as e:\n",
        "    transformers_result = \"Detection failed\""
      ],
      "metadata": {
        "id": "MwlRdrgEi8vx"
      },
      "execution_count": 20,
      "outputs": []
    },
    {
      "cell_type": "code",
      "source": [
        "# Print results\n",
        "print(\"langdetect result:\", langdetect_result)\n",
        "print(\"langid result:\", langid_result)\n",
        "print(\"Transformers result:\", transformers_result)"
      ],
      "metadata": {
        "colab": {
          "base_uri": "https://localhost:8080/"
        },
        "id": "SOHsUCdzjA4C",
        "outputId": "19ba4f96-bce7-48d0-c589-ff75562f03c6"
      },
      "execution_count": 22,
      "outputs": [
        {
          "output_type": "stream",
          "name": "stdout",
          "text": [
            "langdetect result: English\n",
            "langid result: {'language': 'English', 'confidence': -1068.1853919029236}\n",
            "Transformers result: {'language': 'en', 'confidence': 0.9366692900657654}\n"
          ]
        }
      ]
    }
  ]
}